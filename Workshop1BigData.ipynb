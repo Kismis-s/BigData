{
  "nbformat": 4,
  "nbformat_minor": 0,
  "metadata": {
    "colab": {
      "provenance": []
    },
    "kernelspec": {
      "name": "python3",
      "display_name": "Python 3"
    },
    "language_info": {
      "name": "python"
    }
  },
  "cells": [
    {
      "cell_type": "markdown",
      "source": [
        "**Exercise on Loops**"
      ],
      "metadata": {
        "id": "QBZp1xzgvxii"
      }
    },
    {
      "cell_type": "markdown",
      "source": [
        "Display Fibonacci series up to 10 terms."
      ],
      "metadata": {
        "id": "VAsbkez7UXsx"
      }
    },
    {
      "cell_type": "code",
      "execution_count": null,
      "metadata": {
        "colab": {
          "base_uri": "https://localhost:8080/"
        },
        "id": "ihxGo-WiElTF",
        "outputId": "9e81c88f-20ad-448e-f12d-10f0ae97f330"
      },
      "outputs": [
        {
          "output_type": "stream",
          "name": "stdout",
          "text": [
            "Fibonacci Series:\n",
            "0 1 1 2 3 5 8 13 21 34 "
          ]
        }
      ],
      "source": [
        "num = 10\n",
        "first_term, second_term = 0, 1\n",
        "\n",
        "print(\"Fibonacci Series:\")\n",
        "for _ in range(num):\n",
        "    print(first_term, end=\" \")\n",
        "    next_term = first_term + second_term\n",
        "    first_term = second_term\n",
        "    second_term = next_term"
      ]
    },
    {
      "cell_type": "markdown",
      "source": [
        " Find the factorial of a given number. Ask the user to provide the number."
      ],
      "metadata": {
        "id": "f4Pk1Is4UaXc"
      }
    },
    {
      "cell_type": "code",
      "source": [
        "num = int(input(\"Enter a number: \"))\n",
        "\n",
        "factorial = 1\n",
        "\n",
        "if num < 0:\n",
        "    print(\"Factorial is not defined for negative numbers.\")\n",
        "elif num == 0 or num == 1:\n",
        "    print(f\"The factorial of {num} is 1.\")\n",
        "else:\n",
        "    for i in range(1, num + 1):\n",
        "        factorial *= i\n",
        "    print(f\"The factorial of {num} is {factorial}.\")"
      ],
      "metadata": {
        "colab": {
          "base_uri": "https://localhost:8080/"
        },
        "id": "zWmsjwnRJa9k",
        "outputId": "3b81b101-f188-41f6-da97-7f92ba49223f"
      },
      "execution_count": null,
      "outputs": [
        {
          "output_type": "stream",
          "name": "stdout",
          "text": [
            "Enter a number: 3\n",
            "The factorial of 3 is 6.\n"
          ]
        }
      ]
    },
    {
      "cell_type": "markdown",
      "source": [
        "Write a program to print a right angle triangle using the for loop."
      ],
      "metadata": {
        "id": "HTOHuSPdUdWH"
      }
    },
    {
      "cell_type": "code",
      "source": [
        "rows = int(input(\"Enter the number of rows: \"))\n",
        "\n",
        "for i in range(1, rows + 1):\n",
        "    print(\"*\" * i)"
      ],
      "metadata": {
        "colab": {
          "base_uri": "https://localhost:8080/"
        },
        "id": "42CDwvY8Jrdx",
        "outputId": "6307d4c7-7433-4aac-f1c8-768a7988aeb5"
      },
      "execution_count": null,
      "outputs": [
        {
          "output_type": "stream",
          "name": "stdout",
          "text": [
            "Enter the number of rows: 5\n",
            "*\n",
            "**\n",
            "***\n",
            "****\n",
            "*****\n"
          ]
        }
      ]
    },
    {
      "cell_type": "markdown",
      "source": [
        " **Exercise on Functions**"
      ],
      "metadata": {
        "id": "I4UTfdYav-vM"
      }
    },
    {
      "cell_type": "markdown",
      "source": [
        "Make a simple calculator that can add, subtract, multiply and divide two numbers using function."
      ],
      "metadata": {
        "id": "57RISorUUh9_"
      }
    },
    {
      "cell_type": "code",
      "source": [
        "def add(a, b):\n",
        "    return a + b\n",
        "\n",
        "def subtract(a, b):\n",
        "    return a - b\n",
        "\n",
        "def multiply(a, b):\n",
        "    return a * b\n",
        "\n",
        "def divide(a, b):\n",
        "    if b == 0:\n",
        "        return \"Error! Division by zero.\"\n",
        "    return a / b\n",
        "\n",
        "# Get user input\n",
        "num1 = float(input(\"Enter first number: \"))\n",
        "num2 = float(input(\"Enter second number: \"))\n",
        "\n",
        "print(\"Choose an operation: +, -, *, /\")\n",
        "operation = input(\"Enter operator: \")\n",
        "\n",
        "if operation == \"+\":\n",
        "    print(f\"Result: {add(num1, num2)}\")\n",
        "elif operation == \"-\":\n",
        "    print(f\"Result: {subtract(num1, num2)}\")\n",
        "elif operation == \"*\":\n",
        "    print(f\"Result: {multiply(num1, num2)}\")\n",
        "elif operation == \"/\":\n",
        "    print(f\"Result: {divide(num1, num2)}\")\n",
        "else:\n",
        "    print(\"Invalid operator! Please choose +, -, *, or /.\")\n"
      ],
      "metadata": {
        "colab": {
          "base_uri": "https://localhost:8080/"
        },
        "id": "fgiq7rxZJ2Kv",
        "outputId": "c2b5168b-a627-4a3f-f885-3ec3084e0e8a"
      },
      "execution_count": null,
      "outputs": [
        {
          "output_type": "stream",
          "name": "stdout",
          "text": [
            "Enter first number: 3\n",
            "Enter second number: 2\n",
            "Choose an operation: +, -, *, /\n",
            "Enter operator: +\n",
            "Result: 5.0\n"
          ]
        }
      ]
    },
    {
      "cell_type": "markdown",
      "source": [
        "**Exercise on List and Dictionaries**"
      ],
      "metadata": {
        "id": "hPlh0ClRwDmH"
      }
    },
    {
      "cell_type": "markdown",
      "source": [
        "Remove the first duplicate element of a list"
      ],
      "metadata": {
        "id": "W2WVl3HkUj3g"
      }
    },
    {
      "cell_type": "code",
      "source": [
        "def remove_first_duplicate(lst):\n",
        "    seen = set()\n",
        "    for i, value in enumerate(lst):\n",
        "        if value in seen:\n",
        "            del lst[i]\n",
        "            return lst\n",
        "        seen.add(value)\n",
        "    return lst\n",
        "\n",
        "numbers = [1, 2, 3, 4, 2, 5, 6]\n",
        "print(\"Original list:\", numbers)\n",
        "updated_list = remove_first_duplicate(numbers)\n",
        "print(\"Updated list:\", updated_list)"
      ],
      "metadata": {
        "colab": {
          "base_uri": "https://localhost:8080/"
        },
        "id": "noiP0_qMKBvM",
        "outputId": "f7cadabf-a181-429a-bfe9-6e21066f77c2"
      },
      "execution_count": null,
      "outputs": [
        {
          "output_type": "stream",
          "name": "stdout",
          "text": [
            "Original list: [1, 2, 3, 4, 2, 5, 6]\n",
            "Updated list: [1, 2, 3, 4, 5, 6]\n"
          ]
        }
      ]
    },
    {
      "cell_type": "markdown",
      "source": [
        " Write a Python program to create a new dictionary by extracting the mentioned keys from the below dictionary."
      ],
      "metadata": {
        "id": "mRGRlfgQUmm5"
      }
    },
    {
      "cell_type": "code",
      "source": [
        "sample_dict = {\"name\": \"Anderson\", \"age\": 35, \"salary\": 5000, \"city\": \"London\"}\n",
        "\n",
        "keys = [\"name\", \"salary\"]\n",
        "\n",
        "new_dict = {key: sample_dict[key] for key in keys}\n",
        "\n",
        "print(\"Extracted Dictionary:\", new_dict)"
      ],
      "metadata": {
        "colab": {
          "base_uri": "https://localhost:8080/"
        },
        "id": "2upeQvBnKL0U",
        "outputId": "4d22b5a9-ac8c-45c2-a213-8529d040db78"
      },
      "execution_count": null,
      "outputs": [
        {
          "output_type": "stream",
          "name": "stdout",
          "text": [
            "Extracted Dictionary: {'name': 'Anderson', 'salary': 5000}\n"
          ]
        }
      ]
    },
    {
      "cell_type": "markdown",
      "source": [
        " Write a Python program to convert two lists into a dictionary in a way that item from list_one is the key and item from list_two is the value."
      ],
      "metadata": {
        "id": "QhEOrK8sUpbZ"
      }
    },
    {
      "cell_type": "code",
      "source": [
        "list_one = ['one', 'two', 'three']\n",
        "list_two = [1, 2, 3]\n",
        "\n",
        "dictionary = dict(zip(list_one, list_two))\n",
        "\n",
        "print(\"Converted Dictionary:\", dictionary)"
      ],
      "metadata": {
        "colab": {
          "base_uri": "https://localhost:8080/"
        },
        "id": "qS7WsdtPKVi8",
        "outputId": "f750f2eb-bd27-465d-ec03-a77fc7a0ab74"
      },
      "execution_count": null,
      "outputs": [
        {
          "output_type": "stream",
          "name": "stdout",
          "text": [
            "Converted Dictionary: {'one': 1, 'two': 2, 'three': 3}\n"
          ]
        }
      ]
    }
  ]
}